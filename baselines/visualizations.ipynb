{
 "cells": [
  {
   "cell_type": "code",
   "execution_count": 35,
   "id": "d9ebe30b-dc46-41db-bb12-c4aa05068bbc",
   "metadata": {},
   "outputs": [],
   "source": [
    "import pandas as pd\n",
    "from pathlib import Path\n",
    "import matplotlib\n",
    "import matplotlib.pyplot as plt\n",
    "from PIL import Image\n",
    "from einops import rearrange\n",
    "import requests\n",
    "import io\n",
    "import json\n",
    "from functools import reduce\n",
    "from tqdm import tqdm\n",
    "from scipy.ndimage import gaussian_filter\n",
    "import mediapy as media\n",
    "import numpy as np\n",
    "#from visualization_tools import game_coord_to_pixel_coord"
   ]
  },
  {
   "cell_type": "code",
   "execution_count": 39,
   "id": "7201c481-1547-4e98-9fcf-d05993c1ceda",
   "metadata": {},
   "outputs": [],
   "source": [
    "run_dir = Path('./session_08c06068') # Path('baselines/session_ebdfe818')\n",
    "# original session_e41c9eff, main session_4da05e87, extra session_e1b6d2dc"
   ]
  },
  {
   "cell_type": "code",
   "execution_count": 40,
   "id": "15a36390-231c-4066-a1ac-79487c0c6f41",
   "metadata": {},
   "outputs": [],
   "source": [
    "def path_to_runs(pth):\n",
    "    tdf = pd.read_csv(pth, compression='gzip')\n",
    "    return np.array_split(tdf[tdf['map'] != 'map'], 610)"
   ]
  },
  {
   "cell_type": "code",
   "execution_count": 41,
   "id": "92e339a2-c175-4750-af25-799724cda506",
   "metadata": {},
   "outputs": [
    {
     "name": "stderr",
     "output_type": "stream",
     "text": [
      "0it [00:00, ?it/s]\n"
     ]
    }
   ],
   "source": [
    "all_runs = [path_to_runs(pth) for pth in tqdm(run_dir.glob('*.gz'))]\n",
    "all_runs = list(map(list, zip(*all_runs)))"
   ]
  },
  {
   "cell_type": "code",
   "execution_count": 42,
   "id": "56bafbbc-b095-464a-896f-b9cab421e45a",
   "metadata": {},
   "outputs": [
    {
     "data": {
      "text/plain": [
       "0"
      ]
     },
     "execution_count": 42,
     "metadata": {},
     "output_type": "execute_result"
    }
   ],
   "source": [
    "len(all_runs)"
   ]
  },
  {
   "cell_type": "code",
   "execution_count": 43,
   "id": "0b0bf3c5-f082-4b93-ba76-0724cdf94cf4",
   "metadata": {},
   "outputs": [
    {
     "ename": "IndexError",
     "evalue": "list index out of range",
     "output_type": "error",
     "traceback": [
      "\u001b[0;31m---------------------------------------------------------------------------\u001b[0m",
      "\u001b[0;31mIndexError\u001b[0m                                Traceback (most recent call last)",
      "Cell \u001b[0;32mIn[43], line 1\u001b[0m\n\u001b[0;32m----> 1\u001b[0m \u001b[38;5;28mlen\u001b[39m(\u001b[43mall_runs\u001b[49m\u001b[43m[\u001b[49m\u001b[38;5;241;43m0\u001b[39;49m\u001b[43m]\u001b[49m)\n",
      "\u001b[0;31mIndexError\u001b[0m: list index out of range"
     ]
    }
   ],
   "source": [
    "len(all_runs[0])"
   ]
  },
  {
   "cell_type": "code",
   "execution_count": 44,
   "id": "31bd7e53-3546-425a-8c67-9aba75b0268a",
   "metadata": {},
   "outputs": [
    {
     "ename": "IndexError",
     "evalue": "list index out of range",
     "output_type": "error",
     "traceback": [
      "\u001b[0;31m---------------------------------------------------------------------------\u001b[0m",
      "\u001b[0;31mIndexError\u001b[0m                                Traceback (most recent call last)",
      "Cell \u001b[0;32mIn[44], line 1\u001b[0m\n\u001b[0;32m----> 1\u001b[0m \u001b[43mall_runs\u001b[49m\u001b[43m[\u001b[49m\u001b[38;5;241;43m0\u001b[39;49m\u001b[43m]\u001b[49m[\u001b[38;5;241m0\u001b[39m]\u001b[38;5;241m.\u001b[39mkeys()\n",
      "\u001b[0;31mIndexError\u001b[0m: list index out of range"
     ]
    }
   ],
   "source": [
    "all_runs[0][0].keys()"
   ]
  },
  {
   "cell_type": "code",
   "execution_count": null,
   "id": "780aa088-244c-440c-a184-5ea9a5feff9b",
   "metadata": {},
   "outputs": [],
   "source": []
  },
  {
   "cell_type": "code",
   "execution_count": null,
   "id": "ea9c01f4-c14a-4e8c-910c-2198650a8882",
   "metadata": {},
   "outputs": [],
   "source": []
  }
 ],
 "metadata": {
  "kernelspec": {
   "display_name": "Python 3 (ipykernel)",
   "language": "python",
   "name": "python3"
  },
  "language_info": {
   "codemirror_mode": {
    "name": "ipython",
    "version": 3
   },
   "file_extension": ".py",
   "mimetype": "text/x-python",
   "name": "python",
   "nbconvert_exporter": "python",
   "pygments_lexer": "ipython3",
   "version": "3.11.9"
  }
 },
 "nbformat": 4,
 "nbformat_minor": 5
}
